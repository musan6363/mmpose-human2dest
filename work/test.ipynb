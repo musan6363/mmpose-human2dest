{
 "cells": [
  {
   "cell_type": "code",
   "execution_count": 1,
   "metadata": {},
   "outputs": [
    {
     "ename": "ImportError",
     "evalue": "/lib/x86_64-linux-gnu/libc.so.6: version `GLIBC_2.34' not found (required by /.singularity.d/libs/libGLdispatch.so.0)",
     "output_type": "error",
     "traceback": [
      "\u001b[0;31m---------------------------------------------------------------------------\u001b[0m",
      "\u001b[0;31mImportError\u001b[0m                               Traceback (most recent call last)",
      "Cell \u001b[0;32mIn [1], line 1\u001b[0m\n\u001b[0;32m----> 1\u001b[0m \u001b[39mimport\u001b[39;00m \u001b[39mcv2\u001b[39;00m\n\u001b[1;32m      2\u001b[0m \u001b[39mfrom\u001b[39;00m \u001b[39mmmpose\u001b[39;00m\u001b[39m.\u001b[39;00m\u001b[39mapis\u001b[39;00m \u001b[39mimport\u001b[39;00m (inference_top_down_pose_model, init_pose_model,\n\u001b[1;32m      3\u001b[0m                          vis_pose_result, process_mmdet_results)\n\u001b[1;32m      4\u001b[0m \u001b[39mfrom\u001b[39;00m \u001b[39mmmdet\u001b[39;00m\u001b[39m.\u001b[39;00m\u001b[39mapis\u001b[39;00m \u001b[39mimport\u001b[39;00m inference_detector, init_detector\n",
      "File \u001b[0;32m~/.local/lib/python3.8/site-packages/cv2/__init__.py:8\u001b[0m\n\u001b[1;32m      5\u001b[0m \u001b[39mimport\u001b[39;00m \u001b[39mimportlib\u001b[39;00m\n\u001b[1;32m      6\u001b[0m \u001b[39mimport\u001b[39;00m \u001b[39msys\u001b[39;00m\n\u001b[0;32m----> 8\u001b[0m \u001b[39mfrom\u001b[39;00m \u001b[39m.\u001b[39;00m\u001b[39mcv2\u001b[39;00m \u001b[39mimport\u001b[39;00m \u001b[39m*\u001b[39m\n\u001b[1;32m      9\u001b[0m \u001b[39mfrom\u001b[39;00m \u001b[39m.\u001b[39;00m\u001b[39mcv2\u001b[39;00m \u001b[39mimport\u001b[39;00m _registerMatType\n\u001b[1;32m     10\u001b[0m \u001b[39mfrom\u001b[39;00m \u001b[39m.\u001b[39;00m \u001b[39mimport\u001b[39;00m mat_wrapper\n",
      "\u001b[0;31mImportError\u001b[0m: /lib/x86_64-linux-gnu/libc.so.6: version `GLIBC_2.34' not found (required by /.singularity.d/libs/libGLdispatch.so.0)"
     ]
    }
   ],
   "source": [
    "import cv2\n",
    "from mmpose.apis import (inference_top_down_pose_model, init_pose_model,\n",
    "                         vis_pose_result, process_mmdet_results)\n",
    "from mmdet.apis import inference_detector, init_detector\n",
    "\n",
    "\n",
    "pose_config = 'configs/body/2d_kpt_sview_rgb_img/topdown_heatmap/coco/hrnet_w48_coco_256x192.py'\n",
    "pose_checkpoint = 'https://download.openmmlab.com/mmpose/top_down/hrnet/hrnet_w48_coco_256x192-b9e0b3ab_20200708.pth'\n",
    "det_config = 'demo/mmdetection_cfg/faster_rcnn_r50_fpn_coco.py'\n",
    "det_checkpoint = 'https://download.openmmlab.com/mmdetection/v2.0/faster_rcnn/faster_rcnn_r50_fpn_1x_coco/faster_rcnn_r50_fpn_1x_coco_20200130-047c8118.pth'\n",
    "\n",
    "# initialize pose model\n",
    "pose_model = init_pose_model(pose_config, pose_checkpoint)\n",
    "# initialize detector\n",
    "det_model = init_detector(det_config, det_checkpoint)\n",
    "\n",
    "img = 'pedestrian/nuimages_ped/v1.0-train/img/00a14431d93f4f32adf683e139dfdf94.jpg'\n",
    "\n",
    "# inference detection\n",
    "# mmdet_results = inference_detector(det_model, img)\n",
    "\n",
    "# extract person (COCO_ID=1) bounding boxes from the detection results\n",
    "# person_results = process_mmdet_results(mmdet_results, cat_id=1)\n",
    "bboxes = [\n",
    "    [1318, 447, 1396, 672],\n",
    "    [1416, 440, 1503, 703],\n",
    "    [1399, 453, 1520, 684]\n",
    "]\n",
    "person_results = []\n",
    "for bbox in bboxes:\n",
    "    person = {}\n",
    "    person['bbox'] = bbox\n",
    "    person_results.append(person)\n",
    "\n",
    "# inference pose\n",
    "pose_results, returned_outputs = inference_top_down_pose_model(\n",
    "    pose_model,\n",
    "    img,\n",
    "    person_results,\n",
    "    bbox_thr=0.3,\n",
    "    format='xyxy',\n",
    "    dataset=pose_model.cfg.data.test.type)\n",
    "\n",
    "# show pose estimation results\n",
    "vis_result = vis_pose_result(\n",
    "    pose_model,\n",
    "    img,\n",
    "    pose_results,\n",
    "    dataset=pose_model.cfg.data.test.type,\n",
    "    show=False)\n",
    "# reduce image size\n",
    "vis_result = cv2.resize(vis_result, dsize=None, fx=0.5, fy=0.5)\n",
    "\n",
    "cv2.imshow(vis_result)\n"
   ]
  },
  {
   "cell_type": "code",
   "execution_count": null,
   "metadata": {},
   "outputs": [],
   "source": []
  }
 ],
 "metadata": {
  "kernelspec": {
   "display_name": "Python 3",
   "language": "python",
   "name": "python3"
  },
  "language_info": {
   "codemirror_mode": {
    "name": "ipython",
    "version": 3
   },
   "file_extension": ".py",
   "mimetype": "text/x-python",
   "name": "python",
   "nbconvert_exporter": "python",
   "pygments_lexer": "ipython3",
   "version": "3.8.10"
  },
  "orig_nbformat": 4,
  "vscode": {
   "interpreter": {
    "hash": "31f2aee4e71d21fbe5cf8b01ff0e069b9275f58929596ceb00d14d90e3e16cd6"
   }
  }
 },
 "nbformat": 4,
 "nbformat_minor": 2
}
